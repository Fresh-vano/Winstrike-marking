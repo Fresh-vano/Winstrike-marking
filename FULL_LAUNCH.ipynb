{
 "cells": [
  {
   "cell_type": "markdown",
   "metadata": {},
   "source": [
    "Справочная информация:\n",
    "python --version >= 3.10"
   ]
  },
  {
   "cell_type": "code",
   "execution_count": null,
   "metadata": {},
   "outputs": [],
   "source": [
    "# Импорты необходимых библиотек\n",
    "import os\n",
    "import logging\n",
    "import time\n",
    "\n",
    "import pandas as pd\n",
    "import numpy as np\n",
    "import matplotlib.pyplot as plt\n",
    "\n",
    "import cv2\n",
    "import easyocr\n",
    "from ultralytics import YOLO"
   ]
  },
  {
   "cell_type": "code",
   "execution_count": null,
   "metadata": {},
   "outputs": [],
   "source": [
    "# Установка уровня логирования (чтобы не выводились сообщения от YOLO - при желании можно не выполнять данный код, но тогда будут видны лишние логи)\n",
    "logging.getLogger('ultralytics').setLevel(logging.WARNING)"
   ]
  },
  {
   "cell_type": "code",
   "execution_count": null,
   "metadata": {},
   "outputs": [],
   "source": [
    "def ocr_detect(ocr_model : easyocr.Reader, imgs_list):\n",
    "    \"\"\"  \"\"\"\n",
    "    results = []\n",
    "    for img in imgs_list:\n",
    "        results.append(ocr_model.readtext(img))\n",
    "    \n",
    "    return results"
   ]
  },
  {
   "cell_type": "code",
   "execution_count": null,
   "metadata": {},
   "outputs": [],
   "source": [
    "# ДИРЕКТОРИЯ, ГДЕ НАХОДИТСЯ ПАПКА\n",
    "INPUT_PATH = r\"..\\test Росатом\\test\\imgs\" # <-- FIXME: ИЗМЕНИТЕ ДАННУЮ ДИРЕКТОРИЮ НА ДИРЕКТОРИЮ ВАЛИДАЦИОННОГО ДАТАСЕТА\n",
    "OUTPUT_PATH = r\".\\outputs\"               # <-- FIXME: ИЗМЕНИТЕ НА ДИРЕКТОРИЮ В КОТОРУЮ НЕОБХОДИМО СОХРАНИТЬ ФАЙЛЫ\n",
    "\n",
    "INPUT_PATH = INPUT_PATH.replace(\"/\", \"\\\\\")\n",
    "OUTPUT_PATH = OUTPUT_PATH.replace(\"/\", \"\\\\\")"
   ]
  },
  {
   "cell_type": "code",
   "execution_count": null,
   "metadata": {},
   "outputs": [],
   "source": [
    "# получение списка путей до файлов в директории валидационного датасета\n",
    "IMG_FILES = os.listdir(INPUT_PATH)\n",
    "IMG_FILES[:5]"
   ]
  },
  {
   "cell_type": "code",
   "execution_count": null,
   "metadata": {},
   "outputs": [],
   "source": [
    "# ГЛОБАЛЬНЫЕ ПЕРЕМЕННЫЕ\n",
    "\n",
    "YOLO_MODEL_PATH = r\".\\models\\winstrike_yolo11.pt\" # <-- FIXME: ПЕРЕД НАЧАЛОМ ДЕТЕКЦИИ ПРОИЗВЕДИТЕ СКАЧИВАНИЕ ВЕСОВ ДЛЯ МОДЕЛИ YOLO ПО ССЫЛКЕ: https://disk.yandex.ru/d/3TM36EKEcFw3uQ\n",
    "                                                  # ПОСЛЕ СКАЧИВАНИЯ ФАЙЛА *.pt С ВЕСАМИ ПОМЕСТИТЕ ЕГО В ПАПКУ \"./models/\" \n",
    "\n",
    "EASYOCR_CONFIG = {\n",
    "    \"lang_list\": ['en', 'ru'],\n",
    "    \"gpu\": True                          # <-- FIXME: ИЗМЕНИТЕ ПАРАМЕТР \"gpu\" на False В СЛУЧАЕ ОТСУТСТВИЯ ВОЗМОЖНОСТИ ЗАПУСКА НА GPU (только CPU)\n",
    "}"
   ]
  },
  {
   "cell_type": "code",
   "execution_count": null,
   "metadata": {},
   "outputs": [],
   "source": [
    "# Создаем объекты моделей нейронных сетей, производящих локализацию области с текстом и перевод текста, представленного в данной области в строку\n",
    "YOLO_MODEL = YOLO(YOLO_MODEL_PATH)\n",
    "\n",
    "EASYOCR_MODEL = easyocr.Reader(**EASYOCR_CONFIG)"
   ]
  },
  {
   "cell_type": "code",
   "execution_count": null,
   "metadata": {},
   "outputs": [],
   "source": [
    "# СОЗДАНИЕ ОБЪЕКТА DATAFRAME С ИНФОРМАЦИЕЙ О РАСПОЗНАННЫХ ОБЪЕКТАХ\n",
    "detected_info_df = {\n",
    "    \"image_file\" : [],\n",
    "    \"label\" : [],\n",
    "    \"label_text\" : []\n",
    "}\n",
    "\n",
    "detected_info_df = pd.DataFrame(detected_info_df)\n",
    "detected_info_df"
   ]
  },
  {
   "cell_type": "code",
   "execution_count": null,
   "metadata": {},
   "outputs": [],
   "source": [
    "# ДЕТЕКЦИЯ ОБЪЕКТОВ \n",
    "for image_file in IMG_FILES:\n",
    "\n",
    "    cur_row_to_df = []\n",
    "\n",
    "    start_time = time.time()\n",
    "    if not image_file.endswith(('.png', '.jpg', '.jpeg', '.JPG')):\n",
    "        continue\n",
    "    else:\n",
    "        try:\n",
    "            cur_row_to_df.append(image_file)\n",
    "            \n",
    "            print('-------------------------------------')\n",
    "            print(f'Название изображения : {image_file}')\n",
    "            # Создаем путь до изображения\n",
    "            image_file_path = os.path.join(INPUT_PATH, image_file)\n",
    "\n",
    "            # Загружаем изображение\n",
    "            image = cv2.imread(image_file_path)\n",
    "            image_rgb = cv2.cvtColor(image, cv2.COLOR_BGR2RGB)\n",
    "\n",
    "            # Выполняем детекцию\n",
    "            results = YOLO_MODEL(image_rgb)\n",
    "\n",
    "            # Копируем изображение для отрисовки\n",
    "            image_copy = image_rgb.copy()\n",
    "\n",
    "            text_imgs = []\n",
    "            coords_text = []\n",
    "\n",
    "            # Проходимся по результатам детекции\n",
    "            for result in results[0].boxes.data:\n",
    "                x_min, y_min, x_max, y_max, confidence, class_id = result[:6].int().tolist()\n",
    "\n",
    "                # сохраняем изображение с текстом\n",
    "                text_imgs.append(image_copy[y_min:y_max, x_min:x_max])\n",
    "\n",
    "                # сохраняем координаты\n",
    "                result = results[0].boxes.xywhn[0]\n",
    "                coords_text.append(f\"0 {result[0]:.6f} {result[1]:.6f} {result[2]:.6f} {result[3]:.6f}\\n\")\n",
    "\n",
    "                # Рисуем прямоугольник\n",
    "                cv2.rectangle(image_copy, (x_min, y_min), (x_max, y_max), (0, 255, 0), 5)\n",
    "\n",
    "\n",
    "            # СОХРАНЕНИЕ ИЗОБРАЖЕНИЯ\n",
    "            try:\n",
    "                cv2.imwrite(os.path.join(OUTPUT_PATH, image_file), image_copy)\n",
    "            except:\n",
    "                print(f\"[WARNING] не удалось сохранить изображение \\\"{image_file}\\\"\")\n",
    "\n",
    "            # УТОЧНЕНИЕ МАРКИРОВКИ\n",
    "            text_result = []\n",
    "\n",
    "            for detected_contour_text in ocr_detect(EASYOCR_MODEL, text_imgs):\n",
    "                for text_detect in detected_contour_text:\n",
    "                    text_result.append(text_detect[1]) \n",
    "\n",
    "            final_text = \" \".join(text_result)\n",
    "\n",
    "            coords_text.append(\"\")\n",
    "            cur_row_to_df.append(f'{\"\".join(coords_text)}')\n",
    "            cur_row_to_df.append(f'\\\"{final_text}\\\"')\n",
    "\n",
    "            print(f'текст на фото : \\\"{final_text}\\\"')\n",
    "            plt.figure(figsize=(5, 5))\n",
    "            plt.imshow(image_copy)\n",
    "            plt.axis('off')\n",
    "            plt.show()\n",
    "\n",
    "\n",
    "        except Exception as e:\n",
    "            cur_row_to_df.append(\"\")\n",
    "            cur_row_to_df.append(\"\")\n",
    "            print('текст не размечен')\n",
    "\n",
    "        print(f\"Время распознавания - {time.time() - start_time:.3f} мс\")\n",
    "        detected_info_df.loc[len(detected_info_df)] = cur_row_to_df\n",
    "\n",
    "    "
   ]
  },
  {
   "cell_type": "code",
   "execution_count": null,
   "metadata": {},
   "outputs": [],
   "source": [
    "# ДОБАВЛЕНИЕ ШАБЛОНА ДЛЯ СТРОК, КОТОРЫЕ АЛГОРИТМ НЕ РАСПОЗНАЛ\n",
    "detected_info_df.loc[detected_info_df['label'].str.len() < 10, 'label'] = '0 0 0 0 0\\n'"
   ]
  },
  {
   "cell_type": "code",
   "execution_count": null,
   "metadata": {},
   "outputs": [],
   "source": [
    "# СОРТИРОВКА РЕЗУЛЬТАТОВ\n",
    "detected_info_df['numeric_part'] = detected_info_df['image_file'].str.extract('(\\d+)').astype(int)\n",
    "detected_info_df = detected_info_df.sort_values(by='numeric_part').drop(columns=['numeric_part'])"
   ]
  },
  {
   "cell_type": "code",
   "execution_count": null,
   "metadata": {},
   "outputs": [],
   "source": [
    "# ПРОСМОТР ПОЛУЧИВШЕЙСЯ ТАБЛИЦЫ\n",
    "detected_info_df"
   ]
  },
  {
   "cell_type": "code",
   "execution_count": null,
   "metadata": {},
   "outputs": [],
   "source": [
    "# СОХРАНЕНИЕ РЕЗУЛЬТАТА\n",
    "detected_info_df.to_csv(\"submission.csv\", index=False)"
   ]
  },
  {
   "cell_type": "code",
   "execution_count": null,
   "metadata": {},
   "outputs": [],
   "source": [
    "pd.read_csv(\"submission.csv\")"
   ]
  },
  {
   "cell_type": "code",
   "execution_count": null,
   "metadata": {},
   "outputs": [],
   "source": []
  }
 ],
 "metadata": {
  "kernelspec": {
   "display_name": "venv",
   "language": "python",
   "name": "python3"
  },
  "language_info": {
   "codemirror_mode": {
    "name": "ipython",
    "version": 3
   },
   "file_extension": ".py",
   "mimetype": "text/x-python",
   "name": "python",
   "nbconvert_exporter": "python",
   "pygments_lexer": "ipython3",
   "version": "3.12.6"
  }
 },
 "nbformat": 4,
 "nbformat_minor": 2
}
