{
 "cells": [
  {
   "cell_type": "code",
   "execution_count": 1,
   "metadata": {},
   "outputs": [],
   "source": [
    "import os\n",
    "\n",
    "import cv2\n",
    "\n",
    "import pandas as pd\n",
    "import numpy as np"
   ]
  },
  {
   "cell_type": "code",
   "execution_count": 11,
   "metadata": {},
   "outputs": [],
   "source": [
    "def draw_train_atom_contours(train_atom_folder : str, img_file_name : str, save_path : str) -> None:\n",
    "    \"\"\" Отрисовка метрик, полученных от кейсодержателя \"\"\"\n",
    "\n",
    "    img_path = os.path.join(train_atom_folder, \"imgs\", img_file_name)\n",
    "    label_path = os.path.join(train_atom_folder, \"labels\", img_file_name.split(\".\")[0] + \".txt\")\n",
    "    \n",
    "    label_coords = None\n",
    "\n",
    "    with open(file=label_path, mode=\"r\") as file:\n",
    "        label_coords = [[float(sub.strip()) for sub in line.split(\" \")] for line in file.readlines()]\n",
    "    \n",
    "\n",
    "    image = cv2.imread(img_path)\n",
    "    img_height, img_width = image.shape[:2]\n",
    "    \n",
    "    for coords in label_coords:\n",
    "        # Координаты YOLO\n",
    "        class_id, x_center_norm, y_center_norm, width_norm, height_norm = coords \n",
    "\n",
    "        # Преобразование нормализованных координат в пиксели\n",
    "        x_center_pixel = x_center_norm * img_width\n",
    "        y_center_pixel = y_center_norm * img_height\n",
    "        width_pixel = width_norm * img_width\n",
    "        height_pixel = height_norm * img_height\n",
    "\n",
    "        # Вычисление координат углов прямоугольника\n",
    "        x1 = int(x_center_pixel - width_pixel / 2)\n",
    "        y1 = int(y_center_pixel - height_pixel / 2)\n",
    "        x2 = int(x_center_pixel + width_pixel / 2)\n",
    "        y2 = int(y_center_pixel + height_pixel / 2)\n",
    "\n",
    "        # Рисование прямоугольника\n",
    "        color = (0, 255, 0)  # Зеленый цвет\n",
    "        thickness = 4\n",
    "        cv2.rectangle(image, (x1, y1), (x2, y2), color, thickness)\n",
    "\n",
    "    cv2.imwrite(os.path.join(\".\", save_path, img_file_name), img=image)\n",
    "    "
   ]
  },
  {
   "cell_type": "code",
   "execution_count": 12,
   "metadata": {},
   "outputs": [],
   "source": [
    "# получение путей до всех изображений\n",
    "img_folder_path = os.path.join(\"train_atom\", \"train\", \"imgs\")\n",
    "list_of_img_folder_path = os.listdir(img_folder_path)"
   ]
  },
  {
   "cell_type": "code",
   "execution_count": 14,
   "metadata": {},
   "outputs": [
    {
     "name": "stdout",
     "output_type": "stream",
     "text": [
      "[ERROR] 148.txt\n"
     ]
    }
   ],
   "source": [
    "# СТРАТ ОТРИСОВКИ\n",
    "for img_path in list_of_img_folder_path:\n",
    "    try:\n",
    "        draw_train_atom_contours(os.path.join(\"train_atom\", \"train\"), img_path, os.path.join(\"train_atom\", \"save_imgs\"))\n",
    "    except:\n",
    "        print(f\"[ERROR] {img_path}\")"
   ]
  },
  {
   "cell_type": "code",
   "execution_count": null,
   "metadata": {},
   "outputs": [],
   "source": []
  }
 ],
 "metadata": {
  "kernelspec": {
   "display_name": "venv",
   "language": "python",
   "name": "python3"
  },
  "language_info": {
   "codemirror_mode": {
    "name": "ipython",
    "version": 3
   },
   "file_extension": ".py",
   "mimetype": "text/x-python",
   "name": "python",
   "nbconvert_exporter": "python",
   "pygments_lexer": "ipython3",
   "version": "3.12.6"
  }
 },
 "nbformat": 4,
 "nbformat_minor": 2
}
